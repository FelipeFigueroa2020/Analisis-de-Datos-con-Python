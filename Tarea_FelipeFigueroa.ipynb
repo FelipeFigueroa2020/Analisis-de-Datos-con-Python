{
 "cells": [
  {
   "cell_type": "code",
   "execution_count": 1,
   "metadata": {},
   "outputs": [
    {
     "name": "stdout",
     "output_type": "stream",
     "text": [
      "   Unnamed: 0          id             date     price  bedrooms  bathrooms  \\\n",
      "0           0  7129300520  20141013T000000  221900.0       3.0       1.00   \n",
      "1           1  6414100192  20141209T000000  538000.0       3.0       2.25   \n",
      "2           2  5631500400  20150225T000000  180000.0       2.0       1.00   \n",
      "3           3  2487200875  20141209T000000  604000.0       4.0       3.00   \n",
      "4           4  1954400510  20150218T000000  510000.0       3.0       2.00   \n",
      "\n",
      "   sqft_living  sqft_lot  floors  waterfront  ...  grade  sqft_above  \\\n",
      "0         1180      5650     1.0           0  ...      7        1180   \n",
      "1         2570      7242     2.0           0  ...      7        2170   \n",
      "2          770     10000     1.0           0  ...      6         770   \n",
      "3         1960      5000     1.0           0  ...      7        1050   \n",
      "4         1680      8080     1.0           0  ...      8        1680   \n",
      "\n",
      "   sqft_basement  yr_built  yr_renovated  zipcode      lat     long  \\\n",
      "0              0      1955             0    98178  47.5112 -122.257   \n",
      "1            400      1951          1991    98125  47.7210 -122.319   \n",
      "2              0      1933             0    98028  47.7379 -122.233   \n",
      "3            910      1965             0    98136  47.5208 -122.393   \n",
      "4              0      1987             0    98074  47.6168 -122.045   \n",
      "\n",
      "   sqft_living15  sqft_lot15  \n",
      "0           1340        5650  \n",
      "1           1690        7639  \n",
      "2           2720        8062  \n",
      "3           1360        5000  \n",
      "4           1800        7503  \n",
      "\n",
      "[5 rows x 22 columns]\n",
      "Index(['Unnamed: 0', 'id', 'date', 'price', 'bedrooms', 'bathrooms',\n",
      "       'sqft_living', 'sqft_lot', 'floors', 'waterfront', 'view', 'condition',\n",
      "       'grade', 'sqft_above', 'sqft_basement', 'yr_built', 'yr_renovated',\n",
      "       'zipcode', 'lat', 'long', 'sqft_living15', 'sqft_lot15'],\n",
      "      dtype='object')\n"
     ]
    }
   ],
   "source": [
    "import pandas as pd\n",
    "\n",
    "# Cargar el archivo CSV desde la URL\n",
    "filepath = 'https://cf-courses-data.s3.us.cloud-object-storage.appdomain.cloud/IBMDeveloperSkillsNetwork-DA0101EN-SkillsNetwork/labs/FinalModule_Coursera/data/kc_house_data_NaN.csv'\n",
    "df = pd.read_csv(filepath)\n",
    "\n",
    "# Mostrar las primeras filas del DataFrame para ver cómo se ve\n",
    "print(df.head())\n",
    "\n",
    "# Ver las columnas del DataFrame\n",
    "print(df.columns)\n"
   ]
  },
  {
   "cell_type": "markdown",
   "metadata": {},
   "source": [
    "# Pregunta 1\n",
    "Muestre los tipos de datos de cada columna utilizando el atributo dtypes, luego haga una captura de pantalla y envíela. Incluya su código en la imagen."
   ]
  },
  {
   "cell_type": "code",
   "execution_count": 2,
   "metadata": {},
   "outputs": [
    {
     "name": "stdout",
     "output_type": "stream",
     "text": [
      "Unnamed: 0         int64\n",
      "id                 int64\n",
      "date              object\n",
      "price            float64\n",
      "bedrooms         float64\n",
      "bathrooms        float64\n",
      "sqft_living        int64\n",
      "sqft_lot           int64\n",
      "floors           float64\n",
      "waterfront         int64\n",
      "view               int64\n",
      "condition          int64\n",
      "grade              int64\n",
      "sqft_above         int64\n",
      "sqft_basement      int64\n",
      "yr_built           int64\n",
      "yr_renovated       int64\n",
      "zipcode            int64\n",
      "lat              float64\n",
      "long             float64\n",
      "sqft_living15      int64\n",
      "sqft_lot15         int64\n",
      "dtype: object\n"
     ]
    }
   ],
   "source": [
    "# Mostrar los tipos de datos de cada columna\n",
    "print(df.dtypes)"
   ]
  },
  {
   "cell_type": "markdown",
   "metadata": {},
   "source": [
    "# Pregunta 2\n",
    "Elimine las columnas \"id\" y \"Sin nombre: 0\" del eje 1 utilizando el método drop() y, a continuación, utilice el método describe() para obtener un resumen estadístico de los datos. Asegúrese de que el parámetro inplace está en True. Haga una captura de pantalla y envíela. "
   ]
  },
  {
   "cell_type": "code",
   "execution_count": 3,
   "metadata": {},
   "outputs": [
    {
     "name": "stdout",
     "output_type": "stream",
     "text": [
      "        Unnamed: 0         price      bedrooms     bathrooms   sqft_living  \\\n",
      "count  21613.00000  2.161300e+04  21600.000000  21603.000000  21613.000000   \n",
      "mean   10806.00000  5.400881e+05      3.372870      2.115736   2079.899736   \n",
      "std     6239.28002  3.671272e+05      0.926657      0.768996    918.440897   \n",
      "min        0.00000  7.500000e+04      1.000000      0.500000    290.000000   \n",
      "25%     5403.00000  3.219500e+05      3.000000      1.750000   1427.000000   \n",
      "50%    10806.00000  4.500000e+05      3.000000      2.250000   1910.000000   \n",
      "75%    16209.00000  6.450000e+05      4.000000      2.500000   2550.000000   \n",
      "max    21612.00000  7.700000e+06     33.000000      8.000000  13540.000000   \n",
      "\n",
      "           sqft_lot        floors    waterfront          view     condition  \\\n",
      "count  2.161300e+04  21613.000000  21613.000000  21613.000000  21613.000000   \n",
      "mean   1.510697e+04      1.494309      0.007542      0.234303      3.409430   \n",
      "std    4.142051e+04      0.539989      0.086517      0.766318      0.650743   \n",
      "min    5.200000e+02      1.000000      0.000000      0.000000      1.000000   \n",
      "25%    5.040000e+03      1.000000      0.000000      0.000000      3.000000   \n",
      "50%    7.618000e+03      1.500000      0.000000      0.000000      3.000000   \n",
      "75%    1.068800e+04      2.000000      0.000000      0.000000      4.000000   \n",
      "max    1.651359e+06      3.500000      1.000000      4.000000      5.000000   \n",
      "\n",
      "              grade    sqft_above  sqft_basement      yr_built  yr_renovated  \\\n",
      "count  21613.000000  21613.000000   21613.000000  21613.000000  21613.000000   \n",
      "mean       7.656873   1788.390691     291.509045   1971.005136     84.402258   \n",
      "std        1.175459    828.090978     442.575043     29.373411    401.679240   \n",
      "min        1.000000    290.000000       0.000000   1900.000000      0.000000   \n",
      "25%        7.000000   1190.000000       0.000000   1951.000000      0.000000   \n",
      "50%        7.000000   1560.000000       0.000000   1975.000000      0.000000   \n",
      "75%        8.000000   2210.000000     560.000000   1997.000000      0.000000   \n",
      "max       13.000000   9410.000000    4820.000000   2015.000000   2015.000000   \n",
      "\n",
      "            zipcode           lat          long  sqft_living15     sqft_lot15  \n",
      "count  21613.000000  21613.000000  21613.000000   21613.000000   21613.000000  \n",
      "mean   98077.939805     47.560053   -122.213896    1986.552492   12768.455652  \n",
      "std       53.505026      0.138564      0.140828     685.391304   27304.179631  \n",
      "min    98001.000000     47.155900   -122.519000     399.000000     651.000000  \n",
      "25%    98033.000000     47.471000   -122.328000    1490.000000    5100.000000  \n",
      "50%    98065.000000     47.571800   -122.230000    1840.000000    7620.000000  \n",
      "75%    98118.000000     47.678000   -122.125000    2360.000000   10083.000000  \n",
      "max    98199.000000     47.777600   -121.315000    6210.000000  871200.000000  \n"
     ]
    }
   ],
   "source": [
    "# Eliminar las columnas 'id' y 'Sin nombre: 0' del eje 1 (columnas)\n",
    "df.drop(['id', 'Sin nombre: 0'], axis=1, inplace=True, errors='ignore')\n",
    "\n",
    "# Obtener el resumen estadístico de los datos\n",
    "print(df.describe())"
   ]
  },
  {
   "cell_type": "markdown",
   "metadata": {},
   "source": [
    "# Pregunta 3\n",
    "Utilice el método value_counts para contar el número de casas con valores de suelo únicos, y utilice el método to_frame() para convertirlo en un marco de datos. Haga una captura de pantalla de su código y de la salida y envíela."
   ]
  },
  {
   "cell_type": "code",
   "execution_count": 4,
   "metadata": {},
   "outputs": [
    {
     "name": "stdout",
     "output_type": "stream",
     "text": [
      "          count\n",
      "sqft_lot       \n",
      "5000        358\n",
      "6000        290\n",
      "4000        251\n",
      "7200        220\n",
      "4800        120\n",
      "...         ...\n",
      "2642          1\n",
      "2656          1\n",
      "15035         1\n",
      "638           1\n",
      "13405         1\n",
      "\n",
      "[9782 rows x 1 columns]\n"
     ]
    }
   ],
   "source": [
    "# Contar el número de casas con valores de suelo únicos\n",
    "value_counts = df['sqft_lot'].value_counts()\n",
    "\n",
    "# Convertir los resultados a un marco de datos\n",
    "value_counts_df = value_counts.to_frame()\n",
    "\n",
    "# Mostrar el resultado\n",
    "print(value_counts_df)"
   ]
  },
  {
   "cell_type": "markdown",
   "metadata": {},
   "source": [
    "# Pregunta 4\n",
    "Utilice la función boxplot de la biblioteca seaborn para elaborar un gráfico que le ayude a determinar si las casas con vistas al mar o sin vistas al mar tienen más precios atípicos. Haga una captura de pantalla de su código y boxplot y envíela."
   ]
  },
  {
   "cell_type": "code",
   "execution_count": 5,
   "metadata": {},
   "outputs": [
    {
     "data": {
      "image/png": "[encoded data removed]",
      "text/plain": [
       "<Figure size 640x480 with 1 Axes>"
      ]
     },
     "metadata": {},
     "output_type": "display_data"
    }
   ],
   "source": [
    "import seaborn as sns\n",
    "import matplotlib.pyplot as plt\n",
    "\n",
    "# Crear el boxplot para comparar precios de casas con o sin vistas al mar\n",
    "sns.boxplot(x='waterfront', y='price', data=df)\n",
    "\n",
    "# Configurar el título del gráfico\n",
    "plt.title('Comparación de precios de casas con y sin vistas al mar')\n",
    "\n",
    "# Mostrar el gráfico\n",
    "plt.show()\n"
   ]
  },
  {
   "cell_type": "markdown",
   "metadata": {},
   "source": [
    "# Pregunta 5\n",
    "Utilice la función regplot de la biblioteca seaborn para determinar si la característica sqft_above está correlacionada negativa o positivamente con el precio. Haga una captura de pantalla del gráfico y del código utilizado para generarlo. Envíe su captura de pantalla."
   ]
  },
  {
   "cell_type": "code",
   "execution_count": 6,
   "metadata": {},
   "outputs": [
    {
     "data": {
      "image/png": "[encoded data removed]",
      "text/plain": [
       "<Figure size 640x480 with 1 Axes>"
      ]
     },
     "metadata": {},
     "output_type": "display_data"
    }
   ],
   "source": [
    "# Crear el gráfico de regresión entre 'sqft_above' y 'price'\n",
    "sns.regplot(x='sqft_above', y='price', data=df, scatter_kws={'s': 10}, line_kws={'color': 'red'})\n",
    "\n",
    "# Configurar el título del gráfico\n",
    "plt.title('Relación entre área habitable sobre el sótano y el precio')\n",
    "\n",
    "# Mostrar el gráfico\n",
    "plt.show()"
   ]
  },
  {
   "cell_type": "markdown",
   "metadata": {},
   "source": [
    "# Pregunta 6\n",
    "Ajuste un modelo de regresión lineal para predecir el precio utilizando la característica 'sqft_living', luego calcule el R^2. Haga una captura de pantalla de su código y del valor del R^2. Envíe la captura de pantalla."
   ]
  },
  {
   "cell_type": "code",
   "execution_count": 7,
   "metadata": {},
   "outputs": [
    {
     "name": "stdout",
     "output_type": "stream",
     "text": [
      "R^2: 0.49406905389089006\n"
     ]
    }
   ],
   "source": [
    "from sklearn.linear_model import LinearRegression\n",
    "from sklearn.model_selection import train_test_split\n",
    "from sklearn.metrics import r2_score\n",
    "\n",
    "# Seleccionar las variables independientes y dependientes\n",
    "X = df[['sqft_living']]  # Característica (sqft_living)\n",
    "y = df['price']  # Variable dependiente (precio)\n",
    "\n",
    "# Dividir los datos en conjuntos de entrenamiento y prueba\n",
    "X_train, X_test, y_train, y_test = train_test_split(X, y, test_size=0.2, random_state=42)\n",
    "\n",
    "# Crear el modelo de regresión lineal\n",
    "model = LinearRegression()\n",
    "\n",
    "# Ajustar el modelo con los datos de entrenamiento\n",
    "model.fit(X_train, y_train)\n",
    "\n",
    "# Realizar predicciones sobre el conjunto de prueba\n",
    "y_pred = model.predict(X_test)\n",
    "\n",
    "# Calcular el valor de R^2\n",
    "r2 = r2_score(y_test, y_pred)\n",
    "\n",
    "# Mostrar el valor de R^2\n",
    "print(f'R^2: {r2}')\n"
   ]
  },
  {
   "cell_type": "markdown",
   "metadata": {},
   "source": [
    "# Pregunta 7\n",
    "Ajuste un modelo de regresión lineal para predecir el \"precio\" utilizando la lista de características:\n",
    "\n",
    "\"pisos\"\n",
    "\"frente al mar\"\n",
    "\"lat\"\n",
    "\"dormitorios\"\n",
    "\"sqft_basement\"\n",
    "\"vista\"\n",
    "\"baños\"\n",
    "\"sqft_living15\"\n",
    "\"sqft_above\"\n",
    "\"grado\"\n",
    "\"sqft_living\"\n",
    "\n",
    "Haga una captura de pantalla de su código y del valor R^2 y súbala."
   ]
  },
  {
   "cell_type": "code",
   "execution_count": 8,
   "metadata": {},
   "outputs": [
    {
     "name": "stdout",
     "output_type": "stream",
     "text": [
      "R^2: 0.6568060668488771\n"
     ]
    }
   ],
   "source": [
    "# Definir las características que se usarán\n",
    "features = [\"floors\", \"waterfront\", \"lat\", \"bedrooms\", \"sqft_basement\", \"view\", \"bathrooms\", \n",
    "            \"sqft_living15\", \"sqft_above\", \"grade\", \"sqft_living\"]\n",
    "\n",
    "# Eliminar filas con valores NaN en las columnas de las características\n",
    "df_clean = df.dropna(subset=features)\n",
    "\n",
    "# Recalcular X e y\n",
    "X = df_clean[features]\n",
    "y = df_clean['price']\n",
    "\n",
    "# Dividir los datos en entrenamiento y prueba\n",
    "X_train, X_test, y_train, y_test = train_test_split(X, y, test_size=0.2, random_state=42)\n",
    "\n",
    "# Crear y ajustar el modelo\n",
    "model = LinearRegression()\n",
    "model.fit(X_train, y_train)\n",
    "\n",
    "# Realizar predicciones y calcular R^2\n",
    "y_pred = model.predict(X_test)\n",
    "r2 = r2_score(y_test, y_pred)\n",
    "\n",
    "# Mostrar el valor de R^2\n",
    "print(f'R^2: {r2}')"
   ]
  },
  {
   "cell_type": "markdown",
   "metadata": {},
   "source": [
    "# Pregunta 8\n",
    "Cree un objeto pipeline que escale los datos, realice una transformación polinómica y ajuste un modelo de regresión lineal. Ajuste el objeto utilizando las características de la pregunta anterior, luego ajuste el modelo y calcule el R^2. Haga una captura de pantalla de su código y del R^2 y súbala."
   ]
  },
  {
   "cell_type": "code",
   "execution_count": 9,
   "metadata": {},
   "outputs": [
    {
     "name": "stdout",
     "output_type": "stream",
     "text": [
      "R^2: 0.7138681972921543\n"
     ]
    }
   ],
   "source": [
    "from sklearn.pipeline import Pipeline\n",
    "from sklearn.preprocessing import StandardScaler, PolynomialFeatures\n",
    "from sklearn.linear_model import LinearRegression\n",
    "from sklearn.model_selection import train_test_split\n",
    "from sklearn.metrics import r2_score\n",
    "\n",
    "# Definir las características que se usarán\n",
    "features = [\"floors\", \"waterfront\", \"lat\", \"bedrooms\", \"sqft_basement\", \"view\", \"bathrooms\", \n",
    "            \"sqft_living15\", \"sqft_above\", \"grade\", \"sqft_living\"]\n",
    "\n",
    "# Eliminar filas con valores NaN en las columnas de las características\n",
    "df_clean = df.dropna(subset=features)\n",
    "\n",
    "# Recalcular X e y\n",
    "X = df_clean[features]\n",
    "y = df_clean['price']\n",
    "\n",
    "# Dividir los datos en entrenamiento y prueba\n",
    "X_train, X_test, y_train, y_test = train_test_split(X, y, test_size=0.2, random_state=42)\n",
    "\n",
    "# Crear el pipeline\n",
    "pipeline = Pipeline([\n",
    "    ('scaler', StandardScaler()),                # Paso 1: Escalar los datos\n",
    "    ('poly', PolynomialFeatures(degree=2)),      # Paso 2: Transformación polinómica de grado 2\n",
    "    ('model', LinearRegression())                # Paso 3: Modelo de regresión lineal\n",
    "])\n",
    "\n",
    "# Ajustar el pipeline con los datos de entrenamiento\n",
    "pipeline.fit(X_train, y_train)\n",
    "\n",
    "# Realizar predicciones sobre el conjunto de prueba\n",
    "y_pred = pipeline.predict(X_test)\n",
    "\n",
    "# Calcular el R^2\n",
    "r2 = r2_score(y_test, y_pred)\n",
    "\n",
    "# Mostrar el valor de R^2\n",
    "print(f'R^2: {r2}')\n"
   ]
  },
  {
   "cell_type": "markdown",
   "metadata": {},
   "source": [
    "# Pregunta 9\n",
    "Cree y ajuste un objeto de regresión Ridge utilizando los datos de entrenamiento, estableciendo el parámetro de regularización en 0,1, y calcule la R^2 utilizando los datos de prueba. Haga una captura de pantalla de su código y del R^2 y súbala."
   ]
  },
  {
   "cell_type": "code",
   "execution_count": 10,
   "metadata": {},
   "outputs": [
    {
     "name": "stdout",
     "output_type": "stream",
     "text": [
      "R^2: 0.6568035759606471\n"
     ]
    }
   ],
   "source": [
    "from sklearn.linear_model import Ridge\n",
    "from sklearn.metrics import r2_score\n",
    "from sklearn.model_selection import train_test_split\n",
    "\n",
    "# Definir las características que se usarán\n",
    "features = [\"floors\", \"waterfront\", \"lat\", \"bedrooms\", \"sqft_basement\", \"view\", \"bathrooms\", \n",
    "            \"sqft_living15\", \"sqft_above\", \"grade\", \"sqft_living\"]\n",
    "\n",
    "# Eliminar filas con valores NaN en las columnas de las características\n",
    "df_clean = df.dropna(subset=features)\n",
    "\n",
    "# Recalcular X e y\n",
    "X = df_clean[features]\n",
    "y = df_clean['price']\n",
    "\n",
    "# Dividir los datos en entrenamiento y prueba\n",
    "X_train, X_test, y_train, y_test = train_test_split(X, y, test_size=0.2, random_state=42)\n",
    "\n",
    "# Crear y ajustar el modelo Ridge con un parámetro de regularización alpha=0.1\n",
    "ridge_model = Ridge(alpha=0.1)\n",
    "ridge_model.fit(X_train, y_train)\n",
    "\n",
    "# Realizar predicciones sobre el conjunto de prueba\n",
    "y_pred = ridge_model.predict(X_test)\n",
    "\n",
    "# Calcular el R^2\n",
    "r2 = r2_score(y_test, y_pred)\n",
    "\n",
    "# Mostrar el valor de R^2\n",
    "print(f'R^2: {r2}')"
   ]
  },
  {
   "cell_type": "markdown",
   "metadata": {},
   "source": [
    "# Pregunta 10\n",
    "Realice una transformación polinómica de segundo orden tanto en los datos de entrenamiento como en los de prueba. Cree y ajuste un objeto de regresión de Ridge utilizando los datos de entrenamiento, estableciendo el parámetro de regularización en 0,1. Calcule el R^2 utilizando los datos de prueba proporcionados. Haga una captura de pantalla de su código y del R^2 y súbala."
   ]
  },
  {
   "cell_type": "code",
   "execution_count": 11,
   "metadata": {},
   "outputs": [
    {
     "name": "stdout",
     "output_type": "stream",
     "text": [
      "R^2: 0.6905981083130411\n"
     ]
    }
   ],
   "source": [
    "from sklearn.preprocessing import PolynomialFeatures\n",
    "from sklearn.linear_model import Ridge\n",
    "from sklearn.metrics import r2_score\n",
    "from sklearn.model_selection import train_test_split\n",
    "\n",
    "# Definir las características que se usarán\n",
    "features = [\"floors\", \"waterfront\", \"lat\", \"bedrooms\", \"sqft_basement\", \"view\", \"bathrooms\", \n",
    "            \"sqft_living15\", \"sqft_above\", \"grade\", \"sqft_living\"]\n",
    "\n",
    "# Eliminar filas con valores NaN en las columnas de las características\n",
    "df_clean = df.dropna(subset=features)\n",
    "\n",
    "# Recalcular X e y\n",
    "X = df_clean[features]\n",
    "y = df_clean['price']\n",
    "\n",
    "# Dividir los datos en entrenamiento y prueba\n",
    "X_train, X_test, y_train, y_test = train_test_split(X, y, test_size=0.2, random_state=42)\n",
    "\n",
    "# Crear una transformación polinómica de segundo orden\n",
    "poly = PolynomialFeatures(degree=2)\n",
    "\n",
    "# Ajustar y transformar los datos de entrenamiento\n",
    "X_train_poly = poly.fit_transform(X_train)\n",
    "\n",
    "# Transformar los datos de prueba\n",
    "X_test_poly = poly.transform(X_test)\n",
    "\n",
    "# Crear y ajustar el modelo Ridge con un parámetro de regularización alpha=0.1\n",
    "ridge_model = Ridge(alpha=0.1)\n",
    "ridge_model.fit(X_train_poly, y_train)\n",
    "\n",
    "# Realizar predicciones sobre el conjunto de prueba\n",
    "y_pred = ridge_model.predict(X_test_poly)\n",
    "\n",
    "# Calcular el R^2\n",
    "r2 = r2_score(y_test, y_pred)\n",
    "\n",
    "# Mostrar el valor de R^2\n",
    "print(f'R^2: {r2}')"
   ]
  }
 ],
 "metadata": {
  "kernelspec": {
   "display_name": "Python 3",
   "language": "python",
   "name": "python3"
  },
  "language_info": {
   "codemirror_mode": {
    "name": "ipython",
    "version": 3
   },
   "file_extension": ".py",
   "mimetype": "text/x-python",
   "name": "python",
   "nbconvert_exporter": "python",
   "pygments_lexer": "ipython3",
   "version": "3.13.1"
  }
 },
 "nbformat": 4,
 "nbformat_minor": 2
}
